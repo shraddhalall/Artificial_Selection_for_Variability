{
 "cells": [
  {
   "cell_type": "code",
   "execution_count": null,
   "metadata": {},
   "outputs": [],
   "source": [
    "import pandas as pd\n",
    "import numpy as np\n",
    "import matplotlib.pyplot as plt\n",
    "import seaborn as sns\n",
    "from scipy.stats import linregress"
   ]
  },
  {
   "cell_type": "code",
   "execution_count": null,
   "metadata": {},
   "outputs": [],
   "source": [
    "def herit_data_parse(vars_file,chosen_file,gen_no):\n",
    "\n",
    "    \"\"\"\n",
    "    vars_file: CSV file containing family-wise variability scores for each population across generations (generated in fam_var_herit.m)\n",
    "    chosen_file: CSV file noting the indices of selected/chosen families for that population across generations\n",
    "    gen_no: Number of generations \n",
    "    \"\"\"\n",
    "\n",
    "    pop =  pd.read_csv(vars_file)\n",
    "\n",
    "    pop_fams = pop.loc[:, pop.columns.str.startswith('fam')]\n",
    "    pop_fams.columns = pop_fams.columns.str.strip('fam')\n",
    "    pop_fams.columns = pop_fams.columns.astype(int)\n",
    "    pop_fams = pop_fams.sort_index(axis=1)\n",
    "\n",
    "    pop_vars = pop.loc[:, pop.columns.str.startswith('var')]\n",
    "    pop_vars.columns = pop_vars.columns.str.strip('var')\n",
    "    pop_vars.columns = pop_vars.columns.astype(int)\n",
    "    pop_vars = pop_vars.sort_index(axis=1)\n",
    "    pop_vars.replace(0, np.nan, inplace=True)\n",
    "\n",
    "    pop_means_all = np.array(pop_vars.mean(axis = 0)) #first return variable\n",
    "\n",
    "    pop_chosen = pd.read_csv(chosen_file, header = None)\n",
    "    pop_chosen = pop_chosen.T\n",
    "    pop_chosen.columns = list(range(1,gen_no+1))\n",
    "\n",
    "    pop_means_chosen = []\n",
    "\n",
    "    for i in range (1,gen_no+1):\n",
    "        #print(i)\n",
    "        fams_chosen = list(pop_chosen[i])\n",
    "        chosen_vars = []\n",
    "\n",
    "        for j in range(len(fams_chosen)):\n",
    "            row_num = pop_fams[pop_fams[i] == fams_chosen[j]].index\n",
    "            #print(row_num)\n",
    "            var = pop_vars[i][row_num].iloc[0]\n",
    "\n",
    "            chosen_vars.append(var)\n",
    "\n",
    "        chosen_mean = np.mean(chosen_vars)\n",
    "        pop_means_chosen.append(chosen_mean)\n",
    "    \n",
    "    pop_means_chosen = np.array(pop_means_chosen) #second return variable\n",
    "\n",
    "    return pop_means_all, pop_means_chosen"
   ]
  },
  {
   "cell_type": "code",
   "execution_count": null,
   "metadata": {},
   "outputs": [],
   "source": [
    "VS1_means_all,VS1_means_chosen = herit_data_parse('./processed/Sel_vars_1.csv','./processed/chosen_fams_VS1.csv',21)"
   ]
  },
  {
   "cell_type": "code",
   "execution_count": null,
   "metadata": {},
   "outputs": [],
   "source": [
    "VC1_means_all,VC1_means_chosen = herit_data_parse('./processed/Con_vars_1.csv','./processed/chosen_fams_VC1.csv',21)"
   ]
  },
  {
   "cell_type": "code",
   "execution_count": null,
   "metadata": {},
   "outputs": [],
   "source": [
    "VS2_means_all,VS2_means_chosen = herit_data_parse('./processed/Sel_vars_2.csv','./processed/chosen_fams_VS2.csv',21)"
   ]
  },
  {
   "cell_type": "code",
   "execution_count": null,
   "metadata": {},
   "outputs": [],
   "source": [
    "VC2_means_all,VC2_means_chosen = herit_data_parse('./processed/Con_vars_2.csv','./processed/chosen_fams_VC2.csv',21)"
   ]
  },
  {
   "cell_type": "code",
   "execution_count": null,
   "metadata": {},
   "outputs": [],
   "source": [
    "VS3_means_all,VS3_means_chosen = herit_data_parse('./processed/Sel_vars_3.csv','./processed/chosen_fams_VS3.csv',21)"
   ]
  },
  {
   "cell_type": "code",
   "execution_count": null,
   "metadata": {},
   "outputs": [],
   "source": [
    "VC3_means_all,VC3_means_chosen = herit_data_parse('./processed/Con_vars_3.csv','./processed/chosen_fams_VC3.csv',21)"
   ]
  },
  {
   "cell_type": "code",
   "execution_count": null,
   "metadata": {},
   "outputs": [],
   "source": [
    "df_means = pd.DataFrame(np.vstack((VS1_means_all, VC1_means_all, VS2_means_all, VC2_means_all, VS3_means_all, VC3_means_all)))"
   ]
  },
  {
   "cell_type": "code",
   "execution_count": null,
   "metadata": {},
   "outputs": [],
   "source": [
    "df_means = df_means.T\n",
    "df_means.columns = ['VS1', 'VC1', 'VS2', 'VC2', 'VS3', 'VC3']"
   ]
  },
  {
   "cell_type": "code",
   "execution_count": null,
   "metadata": {},
   "outputs": [],
   "source": [
    "df_means_chosen = pd.DataFrame(np.vstack((VS1_means_chosen, VC1_means_chosen, VS2_means_chosen, VC2_means_chosen, VS3_means_chosen, VC3_means_chosen)))"
   ]
  },
  {
   "cell_type": "code",
   "execution_count": null,
   "metadata": {},
   "outputs": [],
   "source": [
    "df_means_chosen = df_means_chosen.T\n",
    "df_means_chosen.columns = ['VS1', 'VC1', 'VS2', 'VC2', 'VS3', 'VC3']"
   ]
  },
  {
   "cell_type": "markdown",
   "metadata": {},
   "source": [
    "### Calculating cumulative selection differential and response"
   ]
  },
  {
   "cell_type": "code",
   "execution_count": null,
   "metadata": {},
   "outputs": [],
   "source": [
    "df_S = df_means_chosen - df_means"
   ]
  },
  {
   "cell_type": "code",
   "execution_count": null,
   "metadata": {},
   "outputs": [],
   "source": [
    "df_S = df_S.drop([20])"
   ]
  },
  {
   "cell_type": "code",
   "execution_count": null,
   "metadata": {},
   "outputs": [],
   "source": [
    "df_R = df_means.diff()"
   ]
  },
  {
   "cell_type": "code",
   "execution_count": null,
   "metadata": {},
   "outputs": [],
   "source": [
    "df_R = df_R.drop([0])"
   ]
  },
  {
   "cell_type": "code",
   "execution_count": null,
   "metadata": {},
   "outputs": [],
   "source": [
    "df_Rc = df_R.cumsum()"
   ]
  },
  {
   "cell_type": "code",
   "execution_count": null,
   "metadata": {},
   "outputs": [],
   "source": [
    "df_Sc = df_S.cumsum()"
   ]
  },
  {
   "cell_type": "code",
   "execution_count": null,
   "metadata": {},
   "outputs": [],
   "source": [
    "pops = ['VS1', 'VC1', 'VS2', 'VC2', 'VS3', 'VC3']"
   ]
  },
  {
   "cell_type": "code",
   "execution_count": null,
   "metadata": {},
   "outputs": [],
   "source": [
    "df_Sc_VS = df_Sc[['VS1','VS2','VS3']]\n",
    "df_Rc_VS = df_Rc[['VS1','VS2','VS3']]\n",
    "\n",
    "df_Sc_VC = df_Sc[['VC1','VC2','VC3']]\n",
    "df_Rc_VC = df_Rc[['VC1','VC2','VC3']]"
   ]
  },
  {
   "cell_type": "code",
   "execution_count": null,
   "metadata": {},
   "outputs": [],
   "source": [
    "df_Sc_VS = df_Sc_VS.melt(var_name = 'pop', value_name = 'Sc')\n",
    "df_Rc_VS = df_Rc_VS.melt(var_name = 'pop', value_name = 'Rc')"
   ]
  },
  {
   "cell_type": "code",
   "execution_count": null,
   "metadata": {},
   "outputs": [],
   "source": [
    "df_VS = df_Sc_VS.copy()"
   ]
  },
  {
   "cell_type": "code",
   "execution_count": null,
   "metadata": {},
   "outputs": [],
   "source": [
    "df_VS['Rc']=df_Rc_VS['Rc']"
   ]
  },
  {
   "cell_type": "code",
   "execution_count": null,
   "metadata": {},
   "outputs": [],
   "source": [
    "df_Sc_VC = df_Sc_VC.melt(var_name = 'pop', value_name = 'Sc')\n",
    "df_Rc_VC = df_Rc_VC.melt(var_name = 'pop', value_name = 'Rc')"
   ]
  },
  {
   "cell_type": "code",
   "execution_count": null,
   "metadata": {},
   "outputs": [],
   "source": [
    "df_VC = df_Sc_VC.copy()"
   ]
  },
  {
   "cell_type": "code",
   "execution_count": null,
   "metadata": {},
   "outputs": [],
   "source": [
    "df_VC['Rc']=df_Rc_VC['Rc']"
   ]
  },
  {
   "cell_type": "code",
   "execution_count": null,
   "metadata": {},
   "outputs": [],
   "source": [
    "df_VC"
   ]
  },
  {
   "cell_type": "markdown",
   "metadata": {},
   "source": [
    "#### Renaming for best match with downstream modelling in R"
   ]
  },
  {
   "cell_type": "code",
   "execution_count": null,
   "metadata": {},
   "outputs": [],
   "source": [
    "df_VC['pop'] = df_VC['pop'].str.removeprefix('VC')"
   ]
  },
  {
   "cell_type": "code",
   "execution_count": null,
   "metadata": {},
   "outputs": [],
   "source": [
    "df_VC.rename(columns = {'pop':'block'}, inplace = True)"
   ]
  },
  {
   "cell_type": "code",
   "execution_count": null,
   "metadata": {},
   "outputs": [],
   "source": [
    "df_VS['pop'] = df_VS['pop'].str.removeprefix('VS')"
   ]
  },
  {
   "cell_type": "code",
   "execution_count": null,
   "metadata": {},
   "outputs": [],
   "source": [
    "df_VS.rename(columns = {'pop':'block'}, inplace = True)"
   ]
  },
  {
   "cell_type": "code",
   "execution_count": null,
   "metadata": {},
   "outputs": [],
   "source": [
    "df_VC.to_csv('con_herit.csv', index = False)\n",
    "df_VS.to_csv('sel_herit.csv', index = False)"
   ]
  },
  {
   "cell_type": "code",
   "execution_count": null,
   "metadata": {},
   "outputs": [],
   "source": []
  }
 ],
 "metadata": {
  "kernelspec": {
   "display_name": "Python 3 (ipykernel)",
   "language": "python",
   "name": "python3"
  },
  "language_info": {
   "codemirror_mode": {
    "name": "ipython",
    "version": 3
   },
   "file_extension": ".py",
   "mimetype": "text/x-python",
   "name": "python",
   "nbconvert_exporter": "python",
   "pygments_lexer": "ipython3",
   "version": "3.11.7"
  }
 },
 "nbformat": 4,
 "nbformat_minor": 4
}
