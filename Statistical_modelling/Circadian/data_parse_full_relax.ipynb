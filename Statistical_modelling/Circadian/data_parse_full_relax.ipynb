{
 "cells": [
  {
   "cell_type": "code",
   "execution_count": 1,
   "id": "142062e1-cc3d-4b0d-9d1e-565435af28ab",
   "metadata": {},
   "outputs": [],
   "source": [
    "from Analysis_functions import *"
   ]
  },
  {
   "cell_type": "code",
   "execution_count": 2,
   "id": "ec343329-3475-4217-9a24-633464ec366a",
   "metadata": {},
   "outputs": [],
   "source": [
    "import warnings\n",
    "warnings.simplefilter(action='ignore', category=FutureWarning)"
   ]
  },
  {
   "cell_type": "code",
   "execution_count": 3,
   "id": "24edbcc5-8b4c-4ce6-8ce4-1f32a4844d09",
   "metadata": {},
   "outputs": [],
   "source": [
    "full_rel_info = pd.read_csv('full_rel_info.csv', index_col= 'i')"
   ]
  },
  {
   "cell_type": "code",
   "execution_count": 4,
   "id": "e1b8ab85-1528-4373-9961-a01e6260a37a",
   "metadata": {
    "editable": true,
    "slideshow": {
     "slide_type": ""
    },
    "tags": []
   },
   "outputs": [
    {
     "data": {
      "text/html": [
       "<div>\n",
       "<style scoped>\n",
       "    .dataframe tbody tr th:only-of-type {\n",
       "        vertical-align: middle;\n",
       "    }\n",
       "\n",
       "    .dataframe tbody tr th {\n",
       "        vertical-align: top;\n",
       "    }\n",
       "\n",
       "    .dataframe thead th {\n",
       "        text-align: right;\n",
       "    }\n",
       "</style>\n",
       "<table border=\"1\" class=\"dataframe\">\n",
       "  <thead>\n",
       "    <tr style=\"text-align: right;\">\n",
       "      <th></th>\n",
       "      <th>hh</th>\n",
       "      <th>mm</th>\n",
       "      <th>ss</th>\n",
       "      <th>NROI</th>\n",
       "      <th>date</th>\n",
       "      <th>box</th>\n",
       "      <th>tray</th>\n",
       "    </tr>\n",
       "    <tr>\n",
       "      <th>i</th>\n",
       "      <th></th>\n",
       "      <th></th>\n",
       "      <th></th>\n",
       "      <th></th>\n",
       "      <th></th>\n",
       "      <th></th>\n",
       "      <th></th>\n",
       "    </tr>\n",
       "  </thead>\n",
       "  <tbody>\n",
       "    <tr>\n",
       "      <th>1</th>\n",
       "      <td>20</td>\n",
       "      <td>49</td>\n",
       "      <td>44</td>\n",
       "      <td>128</td>\n",
       "      <td>10-02-2023</td>\n",
       "      <td>2</td>\n",
       "      <td>1</td>\n",
       "    </tr>\n",
       "    <tr>\n",
       "      <th>2</th>\n",
       "      <td>20</td>\n",
       "      <td>50</td>\n",
       "      <td>55</td>\n",
       "      <td>128</td>\n",
       "      <td>10-02-2023</td>\n",
       "      <td>2</td>\n",
       "      <td>2</td>\n",
       "    </tr>\n",
       "    <tr>\n",
       "      <th>3</th>\n",
       "      <td>21</td>\n",
       "      <td>0</td>\n",
       "      <td>0</td>\n",
       "      <td>128</td>\n",
       "      <td>10-02-2023</td>\n",
       "      <td>2</td>\n",
       "      <td>5</td>\n",
       "    </tr>\n",
       "    <tr>\n",
       "      <th>4</th>\n",
       "      <td>21</td>\n",
       "      <td>9</td>\n",
       "      <td>1</td>\n",
       "      <td>128</td>\n",
       "      <td>10-02-2023</td>\n",
       "      <td>2</td>\n",
       "      <td>4</td>\n",
       "    </tr>\n",
       "    <tr>\n",
       "      <th>5</th>\n",
       "      <td>20</td>\n",
       "      <td>14</td>\n",
       "      <td>45</td>\n",
       "      <td>128</td>\n",
       "      <td>10-04-2023</td>\n",
       "      <td>4</td>\n",
       "      <td>3</td>\n",
       "    </tr>\n",
       "  </tbody>\n",
       "</table>\n",
       "</div>"
      ],
      "text/plain": [
       "   hh  mm  ss  NROI        date  box  tray\n",
       "i                                         \n",
       "1  20  49  44   128  10-02-2023    2     1\n",
       "2  20  50  55   128  10-02-2023    2     2\n",
       "3  21   0   0   128  10-02-2023    2     5\n",
       "4  21   9   1   128  10-02-2023    2     4\n",
       "5  20  14  45   128  10-04-2023    4     3"
      ]
     },
     "execution_count": 4,
     "metadata": {},
     "output_type": "execute_result"
    }
   ],
   "source": [
    "full_rel_info.head()"
   ]
  },
  {
   "cell_type": "code",
   "execution_count": 9,
   "id": "4cb04352-f635-4a5e-9c43-ad586b6891a8",
   "metadata": {},
   "outputs": [
    {
     "data": {
      "text/plain": [
       "hh       20\n",
       "mm       49\n",
       "ss       44\n",
       "NROI    128\n",
       "Name: 1, dtype: object"
      ]
     },
     "execution_count": 9,
     "metadata": {},
     "output_type": "execute_result"
    }
   ],
   "source": [
    "full_rel_info.loc[1][0:4]"
   ]
  },
  {
   "cell_type": "code",
   "execution_count": 5,
   "id": "49bda5ba-13e0-4478-a367-11e9ada4af79",
   "metadata": {
    "editable": true,
    "slideshow": {
     "slide_type": ""
    },
    "tags": []
   },
   "outputs": [],
   "source": [
    "def parse_raw(file_no,start_h,start_m,start_s,NROI,ll,hours):\n",
    "    \"\"\"\n",
    "    Files should be named in the following way: '1_centroid.bin' and '1_time.bin;\n",
    "    Files should be stored in directory called 'centroids_binary' &'time_binary'; \n",
    "    This notebook should be run in the parent folder that the raw data folders are in;\n",
    "    Start time should be entered as hh,mm,ss eg. 15,34,55;\n",
    "    NROI should be the number of ROI in the expmt\n",
    "    \"\"\"\n",
    "    \n",
    "    NROI = int(NROI)\n",
    "    cent_file = './Full_relax/centroids_binary/'+str(int(file_no))+'_centroid.bin' #path to centroid file\n",
    "    time_file = './Full_relax/time_binary/'+str(int(file_no))+'_time.bin' #path to time file\n",
    "    \n",
    "    start_t = convert_time(start_h,start_m,start_s) #convert start time to decimal\n",
    "    \n",
    "    data_dict = make_dict_from_bin_files(cent_file, time_file,start_t, NROI,ll,hours) #generate dictionary from raw data\n",
    "    \n",
    "    return data_dict"
   ]
  },
  {
   "cell_type": "code",
   "execution_count": 10,
   "id": "f05d88ac-f6ca-4ed5-908e-9be85e4a0b74",
   "metadata": {
    "editable": true,
    "slideshow": {
     "slide_type": ""
    },
    "tags": []
   },
   "outputs": [
    {
     "name": "stdout",
     "output_type": "stream",
     "text": [
      "0\n",
      "1\n",
      "2\n",
      "3\n",
      "4\n",
      "5\n",
      "6\n",
      "7\n",
      "8\n",
      "9\n",
      "10\n",
      "11\n"
     ]
    }
   ],
   "source": [
    "activity = {}\n",
    "ts = {}\n",
    "speed = {}\n",
    "for i in range(len(full_rel_info)):\n",
    "    print(i)\n",
    "    dict = parse_raw(i+1,*full_rel_info.loc[i+1][0:4],21.00,84)\n",
    "    activity[i+1] = dict['activity']\n",
    "    ts[i+1] = dict['ts']\n",
    "    speed[i+1] = get_speed_from_activity(dict['activity'],dict['ts'])"
   ]
  },
  {
   "cell_type": "code",
   "execution_count": 13,
   "id": "fa8f8f95-8093-4d49-b288-e70a68c1de1c",
   "metadata": {},
   "outputs": [
    {
     "data": {
      "text/plain": [
       "(908500, 128)"
      ]
     },
     "execution_count": 13,
     "metadata": {},
     "output_type": "execute_result"
    }
   ],
   "source": [
    "activity[1].shape"
   ]
  },
  {
   "cell_type": "markdown",
   "id": "503c6660-e27e-44bf-8cc4-6d5f0f4de05c",
   "metadata": {},
   "source": [
    "### Save activity ,speed & time dictionaries to pickles"
   ]
  },
  {
   "cell_type": "code",
   "execution_count": 13,
   "id": "3f681f8f-47dd-42a0-98c9-c5fd91e938a0",
   "metadata": {},
   "outputs": [],
   "source": [
    "import pickle"
   ]
  },
  {
   "cell_type": "code",
   "execution_count": 14,
   "id": "bdd159be-0c38-4a6c-9231-d3a25f1b2d0b",
   "metadata": {},
   "outputs": [],
   "source": [
    "with open(\"activity_full_relax.pickle\", \"wb\") as f:\n",
    "    pickle.dump(activity, f, pickle.HIGHEST_PROTOCOL)"
   ]
  },
  {
   "cell_type": "code",
   "execution_count": 15,
   "id": "42c1c611-b784-441a-8aed-d0bc9b4d8695",
   "metadata": {},
   "outputs": [],
   "source": [
    "with open(\"speed_full_relax.pickle\", \"wb\") as f:\n",
    "    pickle.dump(speed, f, pickle.HIGHEST_PROTOCOL)"
   ]
  },
  {
   "cell_type": "code",
   "execution_count": 16,
   "id": "9be042a5-8897-47da-b30f-db340074ad50",
   "metadata": {},
   "outputs": [],
   "source": [
    "with open(\"tp_full_relax.pickle\", \"wb\") as f:\n",
    "    pickle.dump(ts, f, pickle.HIGHEST_PROTOCOL)"
   ]
  }
 ],
 "metadata": {
  "kernelspec": {
   "display_name": "Python 3 (ipykernel)",
   "language": "python",
   "name": "python3"
  },
  "language_info": {
   "codemirror_mode": {
    "name": "ipython",
    "version": 3
   },
   "file_extension": ".py",
   "mimetype": "text/x-python",
   "name": "python",
   "nbconvert_exporter": "python",
   "pygments_lexer": "ipython3",
   "version": "3.11.7"
  }
 },
 "nbformat": 4,
 "nbformat_minor": 5
}
